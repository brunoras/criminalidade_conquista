{
  "nbformat": 4,
  "nbformat_minor": 0,
  "metadata": {
    "colab": {
      "name": "Coleta de Dados de Criminalidade Conquista 2021.ipynb",
      "provenance": [],
      "mount_file_id": "1fGV-HIdSktSCXfdCVbcKbHieL4pwkG8E",
      "authorship_tag": "ABX9TyNzWESby3vgsNcsogJjEzbZ",
      "include_colab_link": true
    },
    "kernelspec": {
      "name": "python3",
      "display_name": "Python 3"
    },
    "language_info": {
      "name": "python"
    }
  },
  "cells": [
    {
      "cell_type": "markdown",
      "metadata": {
        "id": "view-in-github",
        "colab_type": "text"
      },
      "source": [
        "<a href=\"https://colab.research.google.com/github/brunoras/criminalidade_conquista/blob/main/Coleta_de_Dados_de_Criminalidade_Conquista_2021.ipynb\" target=\"_parent\"><img src=\"https://colab.research.google.com/assets/colab-badge.svg\" alt=\"Open In Colab\"/></a>"
      ]
    },
    {
      "cell_type": "markdown",
      "metadata": {
        "id": "LPQrIfBI-pCf"
      },
      "source": [
        "# Importações"
      ]
    },
    {
      "cell_type": "code",
      "metadata": {
        "id": "VpPOuNP7gWbJ"
      },
      "source": [
        "import pandas as pd\n",
        "from matplotlib import pyplot as plt\n",
        "import numpy as np"
      ],
      "execution_count": null,
      "outputs": []
    },
    {
      "cell_type": "code",
      "metadata": {
        "id": "k9mvaBlpf2ZH"
      },
      "source": [
        "# Caminho para leitura dos arquivos\n",
        "path = '/content/drive/MyDrive/Criminalidade Conquista 2021'"
      ],
      "execution_count": null,
      "outputs": []
    },
    {
      "cell_type": "markdown",
      "metadata": {
        "id": "dX9wYnXe7yj_"
      },
      "source": [
        "# Coleta dos Dados"
      ]
    },
    {
      "cell_type": "markdown",
      "metadata": {
        "id": "AgY-S93cOX8o"
      },
      "source": [
        "**Tipos de crimes segundo a SSP-BA e as legendas usadas neste notebook**"
      ]
    },
    {
      "cell_type": "code",
      "metadata": {
        "colab": {
          "base_uri": "https://localhost:8080/",
          "height": 800
        },
        "id": "MEvx8OySbsWa",
        "outputId": "7682f5a9-e87a-4982-94ef-b06bdece67d4"
      },
      "source": [
        "dicio = pd.read_excel(path + '/Dados Coletados/Dicionário.xlsx')\n",
        "dicio"
      ],
      "execution_count": null,
      "outputs": [
        {
          "output_type": "execute_result",
          "data": {
            "text/html": [
              "<div>\n",
              "<style scoped>\n",
              "    .dataframe tbody tr th:only-of-type {\n",
              "        vertical-align: middle;\n",
              "    }\n",
              "\n",
              "    .dataframe tbody tr th {\n",
              "        vertical-align: top;\n",
              "    }\n",
              "\n",
              "    .dataframe thead th {\n",
              "        text-align: right;\n",
              "    }\n",
              "</style>\n",
              "<table border=\"1\" class=\"dataframe\">\n",
              "  <thead>\n",
              "    <tr style=\"text-align: right;\">\n",
              "      <th></th>\n",
              "      <th>2014 - 2018</th>\n",
              "      <th>casos</th>\n",
              "      <th>2019 - 2021: Pessoas</th>\n",
              "      <th>pessoas</th>\n",
              "      <th>2019 - 2021: Ocorrências</th>\n",
              "      <th>ocorrencias</th>\n",
              "    </tr>\n",
              "  </thead>\n",
              "  <tbody>\n",
              "    <tr>\n",
              "      <th>0</th>\n",
              "      <td>Homicídio doloso</td>\n",
              "      <td>hodo</td>\n",
              "      <td>Feminicidio</td>\n",
              "      <td>femi</td>\n",
              "      <td>Furto de veículo</td>\n",
              "      <td>fvei</td>\n",
              "    </tr>\n",
              "    <tr>\n",
              "      <th>1</th>\n",
              "      <td>Lesão corporal seguida de morte</td>\n",
              "      <td>lcsm</td>\n",
              "      <td>Homicídio doloso</td>\n",
              "      <td>hodo</td>\n",
              "      <td>Roubo a estabelecimento comercial/serviços</td>\n",
              "      <td>recs</td>\n",
              "    </tr>\n",
              "    <tr>\n",
              "      <th>2</th>\n",
              "      <td>Roubo com resultado morte (latrocínio)</td>\n",
              "      <td>latr</td>\n",
              "      <td>Homicídio doloso com indício de excludente de ...</td>\n",
              "      <td>hdei</td>\n",
              "      <td>Roubo a ônibus (urbano e em rodovia)</td>\n",
              "      <td>roni</td>\n",
              "    </tr>\n",
              "    <tr>\n",
              "      <th>3</th>\n",
              "      <td>Tentativa de homicídio</td>\n",
              "      <td>thom</td>\n",
              "      <td>Homicídio doloso no trânsito</td>\n",
              "      <td>hdtr</td>\n",
              "      <td>Roubo a residência</td>\n",
              "      <td>rore</td>\n",
              "    </tr>\n",
              "    <tr>\n",
              "      <th>4</th>\n",
              "      <td>Estupro</td>\n",
              "      <td>estu</td>\n",
              "      <td>Homicídio ocorrido em presídio</td>\n",
              "      <td>hopr</td>\n",
              "      <td>Roubo a transeunte</td>\n",
              "      <td>rtra</td>\n",
              "    </tr>\n",
              "    <tr>\n",
              "      <th>5</th>\n",
              "      <td>Roubo a ônibus (urbano e em rodovia)</td>\n",
              "      <td>roni</td>\n",
              "      <td>Lesão corporal seguida de morte</td>\n",
              "      <td>lcsm</td>\n",
              "      <td>Roubo de carga</td>\n",
              "      <td>rcar</td>\n",
              "    </tr>\n",
              "    <tr>\n",
              "      <th>6</th>\n",
              "      <td>Roubo de veículo</td>\n",
              "      <td>rvei</td>\n",
              "      <td>Roubo com resultado morte (latrocínio)</td>\n",
              "      <td>latr</td>\n",
              "      <td>Uso/porte substância entorpecente (usuários)</td>\n",
              "      <td>uspo</td>\n",
              "    </tr>\n",
              "    <tr>\n",
              "      <th>7</th>\n",
              "      <td>Furto de veículo</td>\n",
              "      <td>fvei</td>\n",
              "      <td>Tentativa de homicídio</td>\n",
              "      <td>thom</td>\n",
              "      <td>Roubo de veículo</td>\n",
              "      <td>rvei</td>\n",
              "    </tr>\n",
              "    <tr>\n",
              "      <th>8</th>\n",
              "      <td>Uso/porte substância entorpecente (usuários)</td>\n",
              "      <td>uspo</td>\n",
              "      <td>Estupro</td>\n",
              "      <td>estu</td>\n",
              "      <td>NaN</td>\n",
              "      <td>NaN</td>\n",
              "    </tr>\n",
              "  </tbody>\n",
              "</table>\n",
              "</div>"
            ],
            "text/plain": [
              "                                    2014 - 2018  ... ocorrencias\n",
              "0                              Homicídio doloso  ...        fvei\n",
              "1               Lesão corporal seguida de morte  ...        recs\n",
              "2        Roubo com resultado morte (latrocínio)  ...        roni\n",
              "3                        Tentativa de homicídio  ...        rore\n",
              "4                                       Estupro  ...        rtra\n",
              "5          Roubo a ônibus (urbano e em rodovia)  ...        rcar\n",
              "6                              Roubo de veículo  ...        uspo\n",
              "7                              Furto de veículo  ...        rvei\n",
              "8  Uso/porte substância entorpecente (usuários)  ...         NaN\n",
              "\n",
              "[9 rows x 6 columns]"
            ]
          },
          "metadata": {},
          "execution_count": 3
        }
      ]
    },
    {
      "cell_type": "code",
      "metadata": {
        "id": "w9HCUOX2P3o1",
        "colab": {
          "base_uri": "https://localhost:8080/"
        },
        "outputId": "0b18f258-dd10-486a-f2ab-165f8e3da90f"
      },
      "source": [
        "crimes = dicio['casos'].to_list()\n",
        "print(crimes)"
      ],
      "execution_count": null,
      "outputs": [
        {
          "output_type": "stream",
          "name": "stdout",
          "text": [
            "['hodo', 'lcsm', 'latr', 'thom', 'estu', 'roni', 'rvei', 'fvei', 'uspo']\n"
          ]
        }
      ]
    },
    {
      "cell_type": "code",
      "metadata": {
        "colab": {
          "base_uri": "https://localhost:8080/"
        },
        "id": "8CecNmjag7E4",
        "outputId": "815cae1b-e762-4c10-d131-c7bcf1d8d42b"
      },
      "source": [
        "crimes_p = dicio['pessoas'].to_list()\n",
        "print(crimes_p)"
      ],
      "execution_count": null,
      "outputs": [
        {
          "output_type": "stream",
          "name": "stdout",
          "text": [
            "['femi', 'hodo', 'hdei', 'hdtr', 'hopr', 'lcsm', 'latr', 'thom', 'estu']\n"
          ]
        }
      ]
    },
    {
      "cell_type": "code",
      "metadata": {
        "colab": {
          "base_uri": "https://localhost:8080/"
        },
        "id": "RusiIJZYg7-R",
        "outputId": "e3f0f65a-0a89-4206-fab9-77df8903267a"
      },
      "source": [
        "crimes_o = dicio['ocorrencias'].iloc[:-1].to_list()\n",
        "print(crimes_o)"
      ],
      "execution_count": null,
      "outputs": [
        {
          "output_type": "stream",
          "name": "stdout",
          "text": [
            "['fvei', 'recs', 'roni', 'rore', 'rtra', 'rcar', 'uspo', 'rvei']\n"
          ]
        }
      ]
    },
    {
      "cell_type": "markdown",
      "metadata": {
        "id": "2WVbOVlJa9FG"
      },
      "source": [
        "## 2014 - 2018"
      ]
    },
    {
      "cell_type": "markdown",
      "metadata": {
        "id": "96q1jITgdwax"
      },
      "source": [
        "### 2014"
      ]
    },
    {
      "cell_type": "code",
      "metadata": {
        "id": "vCSH4OjvQv4m"
      },
      "source": [
        "# dataframe vazio com as colunas \n",
        "df = pd.DataFrame(columns=crimes)\n",
        "# leitura do arquivo\n",
        "for i in range(12):\n",
        "  xlsx = pd.read_excel(path + '/2014/' + str(i) + '-2014.xlsx')\n",
        "  # busca pela linha Vitória da Conquista\n",
        "  if len(xlsx[xlsx.eq(\"Vitória Da Conquista\").any(1)]):\n",
        "    vca = xlsx[xlsx.eq(\"Vitória Da Conquista\").any(1)].values[0][1:]\n",
        "  else:\n",
        "    vca = xlsx[xlsx.eq(\"Vitória da Conquista\").any(1)].values[0][1:]\n",
        "  # convertendo em série do pandas\n",
        "  svca = pd.Series(vca, index=df.columns)\n",
        "  # apendendo no dataframe\n",
        "  df = df.append(svca, ignore_index=True)\n",
        "# dataframe índice\n",
        "data={'ano':[2014]*12,\n",
        "      'mes':['jan', 'fev', 'mar', 'abr', 'mai', 'jun', 'jul', 'ago', 'set', 'out', 'nov', 'dez']}\n",
        "df_index = pd.DataFrame(data)\n",
        "# Concatenando o índice\n",
        "df_14 = pd.concat([df_index, df], axis=1)\n",
        "df_14.tail()"
      ],
      "execution_count": null,
      "outputs": []
    },
    {
      "cell_type": "markdown",
      "metadata": {
        "id": "sFUb-g3Xyoaw"
      },
      "source": [
        "### 2015"
      ]
    },
    {
      "cell_type": "code",
      "metadata": {
        "id": "AqQVBbtfyqQi"
      },
      "source": [
        "# dataframe vazio com as colunas \n",
        "df = pd.DataFrame(columns=crimes)\n",
        "# leitura do arquivo\n",
        "for i in range(12):\n",
        "  xlsx = pd.read_excel(path + '/2015/' + str(i) + '-2015.xlsx')\n",
        "  # busca pela linha Vitória da Conquista\n",
        "  if len(xlsx[xlsx.eq(\"Vitória Da Conquista\").any(1)]):\n",
        "    vca = xlsx[xlsx.eq(\"Vitória Da Conquista\").any(1)].values[0][1:]\n",
        "  else:\n",
        "    vca = xlsx[xlsx.eq(\"Vitória da Conquista\").any(1)].values[0][1:]\n",
        "  # convertendo em série do pandas\n",
        "  svca = pd.Series(vca, index=df.columns)\n",
        "  # apendendo no dataframe\n",
        "  df = df.append(svca, ignore_index=True)\n",
        "# dataframe índice\n",
        "data={'ano':[2015]*12,\n",
        "      'mes':['jan', 'fev', 'mar', 'abr', 'mai', 'jun', 'jul', 'ago', 'set', 'out', 'nov', 'dez']}\n",
        "df_index = pd.DataFrame(data)\n",
        "# Concatenando o índice\n",
        "df_15 = pd.concat([df_index, df], axis=1)\n",
        "df_15.tail()"
      ],
      "execution_count": null,
      "outputs": []
    },
    {
      "cell_type": "markdown",
      "metadata": {
        "id": "bMNwUs7k5lUl"
      },
      "source": [
        "### 2016"
      ]
    },
    {
      "cell_type": "code",
      "metadata": {
        "id": "U60DRinT5pXU"
      },
      "source": [
        "# dataframe vazio com as colunas \n",
        "df = pd.DataFrame(columns=crimes)\n",
        "# leitura do arquivo\n",
        "for i in range(12):\n",
        "  xlsx = pd.read_excel(path + '/2016/' + str(i) + '-2016.xlsx')\n",
        "  # busca pela linha Vitória da Conquista\n",
        "  if len(xlsx[xlsx.eq(\"Vitória Da Conquista\").any(1)]):\n",
        "    vca = xlsx[xlsx.eq(\"Vitória Da Conquista\").any(1)].values[0][1:]\n",
        "  else:\n",
        "    vca = xlsx[xlsx.eq(\"Vitória da Conquista\").any(1)].values[0][1:]\n",
        "  # convertendo em série do pandas\n",
        "  svca = pd.Series(vca, index=df.columns)\n",
        "  # apendendo no dataframe\n",
        "  df = df.append(svca, ignore_index=True)\n",
        "# dataframe índice\n",
        "data={'ano':[2016]*12,\n",
        "      'mes':['jan', 'fev', 'mar', 'abr', 'mai', 'jun', 'jul', 'ago', 'set', 'out', 'nov', 'dez']}\n",
        "df_index = pd.DataFrame(data)\n",
        "# Concatenando o índice\n",
        "df_16 = pd.concat([df_index, df], axis=1)\n",
        "df_16.tail()"
      ],
      "execution_count": null,
      "outputs": []
    },
    {
      "cell_type": "markdown",
      "metadata": {
        "id": "yP6cf57c8xAb"
      },
      "source": [
        "### 2017"
      ]
    },
    {
      "cell_type": "code",
      "metadata": {
        "id": "cjxyLGPS8y-l"
      },
      "source": [
        "# dataframe vazio com as colunas \n",
        "df = pd.DataFrame(columns=crimes)\n",
        "# leitura do arquivo\n",
        "for i in range(12):\n",
        "  xlsx = pd.read_excel(path + '/2017/' + str(i) + '-2017.xlsx')\n",
        "  # busca pela linha Vitória da Conquista\n",
        "  if len(xlsx[xlsx.eq(\"Vitória Da Conquista\").any(1)]):\n",
        "    vca = xlsx[xlsx.eq(\"Vitória Da Conquista\").any(1)].values[0][1:]\n",
        "  else:\n",
        "    vca = xlsx[xlsx.eq(\"Vitória da Conquista\").any(1)].values[0][1:]\n",
        "  # convertendo em série do pandas\n",
        "  svca = pd.Series(vca, index=df.columns)\n",
        "  # apendendo no dataframe\n",
        "  df = df.append(svca, ignore_index=True)\n",
        "# dataframe índice\n",
        "data={'ano':[2017]*12,\n",
        "      'mes':['jan', 'fev', 'mar', 'abr', 'mai', 'jun', 'jul', 'ago', 'set', 'out', 'nov', 'dez']}\n",
        "df_index = pd.DataFrame(data)\n",
        "# Concatenando o índice\n",
        "df_17 = pd.concat([df_index, df], axis=1)\n",
        "df_17.tail()"
      ],
      "execution_count": null,
      "outputs": []
    },
    {
      "cell_type": "markdown",
      "metadata": {
        "id": "F19bfm_a_W6p"
      },
      "source": [
        "### 2018"
      ]
    },
    {
      "cell_type": "code",
      "metadata": {
        "id": "gPVr3DV8_Yd6"
      },
      "source": [
        "# dataframe vazio com as colunas \n",
        "df = pd.DataFrame(columns=crimes)\n",
        "# leitura do arquivo\n",
        "for i in range(12):\n",
        "  xlsx = pd.read_excel(path + '/2018/' + str(i) + '-2018.xlsx')\n",
        "  # busca pela linha Vitória da Conquista\n",
        "  if len(xlsx[xlsx.eq(\"Vitória Da Conquista\").any(1)]):\n",
        "    vca = xlsx[xlsx.eq(\"Vitória Da Conquista\").any(1)].values[0][1:]\n",
        "  else:\n",
        "    vca = xlsx[xlsx.eq(\"Vitória da Conquista\").any(1)].values[0][1:]\n",
        "  # convertendo em série do pandas\n",
        "  svca = pd.Series(vca, index=df.columns)\n",
        "  # apendendo no dataframe\n",
        "  df = df.append(svca, ignore_index=True)\n",
        "# dataframe índice\n",
        "data={'ano':[2018]*12,\n",
        "      'mes':['jan', 'fev', 'mar', 'abr', 'mai', 'jun', 'jul', 'ago', 'set', 'out', 'nov', 'dez']}\n",
        "df_index = pd.DataFrame(data)\n",
        "# Concatenando o índice\n",
        "df_18 = pd.concat([df_index, df], axis=1)\n",
        "df_18.tail()"
      ],
      "execution_count": null,
      "outputs": []
    },
    {
      "cell_type": "markdown",
      "metadata": {
        "id": "2e0qtAwd9axt"
      },
      "source": [
        "## 2019 - 2021"
      ]
    },
    {
      "cell_type": "markdown",
      "metadata": {
        "id": "9H9jwYQ98oKH"
      },
      "source": [
        "### 2019"
      ]
    },
    {
      "cell_type": "code",
      "metadata": {
        "id": "DupxNmmQ0jqm"
      },
      "source": [
        "# Coletando os dados\n",
        "xlsx = pd.read_excel(path + '/2019/01-2019.xlsx')\n",
        "vca = xlsx[xlsx.eq(\"VITORIA DA CONQUISTA\").any(1)].iloc[:-1, 3:].reset_index(drop=True)\n",
        "vca = vca.set_axis(crimes_p, axis=1)\n",
        "# dataframe índice\n",
        "data={'ano':[2019]*12,\n",
        "      'mes':['jan', 'fev', 'mar', 'abr', 'mai', 'jun', 'jul', 'ago', 'set', 'out', 'nov', 'dez']}\n",
        "df_index = pd.DataFrame(data)\n",
        "# Concatenando índice\n",
        "df_19_p = pd.concat([df_index, vca], axis=1)\n",
        "df_19_p.tail()"
      ],
      "execution_count": null,
      "outputs": []
    },
    {
      "cell_type": "code",
      "metadata": {
        "id": "f-I8StyGKzqS"
      },
      "source": [
        "# Coletando os dados jan-jun\n",
        "xlsx = pd.read_excel(path + '/2019/02a-2019.xlsx')\n",
        "vca = xlsx[xlsx.eq(\"VITORIA DA CONQUISTA\").any(1)].iloc[:-1, 3:].reset_index(drop=True)\n",
        "df_19 = vca.set_axis(crimes_o, axis=1)\n",
        "# Coletando os dados jul-dez\n",
        "xlsx = pd.read_excel(path + '/2019/02b-2019.xlsx')\n",
        "vca = xlsx[xlsx.eq(\"VITORIA DA CONQUISTA\").any(1)].iloc[:-1, 3:].reset_index(drop=True)\n",
        "vca = vca.set_axis(crimes_o, axis=1)\n",
        "df_19 = df_19.append(vca, ignore_index=True)\n",
        "# dataframe índice\n",
        "data={'ano':[2019]*12,\n",
        "      'mes':['jan', 'fev', 'mar', 'abr', 'mai', 'jun', 'jul', 'ago', 'set', 'out', 'nov', 'dez']}\n",
        "df_index = pd.DataFrame(data)\n",
        "# Concatenando o índice\n",
        "df_19_o = pd.concat([df_index, df_19], axis=1)\n",
        "df_19_o.tail()"
      ],
      "execution_count": null,
      "outputs": []
    },
    {
      "cell_type": "markdown",
      "metadata": {
        "id": "vJnEe31B8sRW"
      },
      "source": [
        "### 2020"
      ]
    },
    {
      "cell_type": "code",
      "metadata": {
        "id": "aSSaNoBdeeHd"
      },
      "source": [
        "# Coletando os dados\n",
        "xlsx = pd.read_excel(path + '/2020/01-2020.xlsx')\n",
        "vca = xlsx[xlsx.eq(\"VITORIA DA CONQUISTA\").any(1)].iloc[:-1, 3:].reset_index(drop=True)\n",
        "vca = vca.set_axis(crimes_p, axis=1)\n",
        "# dataframe índice\n",
        "data={'ano':[2020]*12,\n",
        "      'mes':['jan', 'fev', 'mar', 'abr', 'mai', 'jun', 'jul', 'ago', 'set', 'out', 'nov', 'dez']}\n",
        "df_index = pd.DataFrame(data)\n",
        "# Concatenando o índice\n",
        "df_20_p = pd.concat([df_index, vca], axis=1)\n",
        "df_20_p.tail()"
      ],
      "execution_count": null,
      "outputs": []
    },
    {
      "cell_type": "code",
      "metadata": {
        "id": "2cBx8SD3fL92"
      },
      "source": [
        "# Coletando os dados\n",
        "xlsx = pd.read_excel(path + '/2020/02-2020.xlsx')\n",
        "vca = xlsx[xlsx.eq(\"VITORIA DA CONQUISTA\").any(1)].iloc[:-1, 3:].reset_index(drop=True)\n",
        "vca = vca.set_axis(crimes_o, axis=1)\n",
        "# dataframe índice\n",
        "data={'ano':[2020]*12,\n",
        "      'mes':['jan', 'fev', 'mar', 'abr', 'mai', 'jun', 'jul', 'ago', 'set', 'out', 'nov', 'dez']}\n",
        "df_index = pd.DataFrame(data)\n",
        "# Concatenando o índice\n",
        "df_20_o = pd.concat([df_index, vca], axis=1)\n",
        "df_20_o.tail()"
      ],
      "execution_count": null,
      "outputs": []
    },
    {
      "cell_type": "markdown",
      "metadata": {
        "id": "sxPZw2A0894U"
      },
      "source": [
        "### 2021"
      ]
    },
    {
      "cell_type": "code",
      "metadata": {
        "id": "6L2fw0IXhxrO"
      },
      "source": [
        "# Coletando os dados\n",
        "xlsx = pd.read_excel(path + '/2021/01-2021.xlsx')\n",
        "vca = xlsx[xlsx.eq(\"VITORIA DA CONQUISTA\").any(1)].iloc[:-1, 3:12].reset_index(drop=True)\n",
        "vca = vca.set_axis(crimes_p, axis=1)\n",
        "# dataframe índice\n",
        "data={'ano':[2021]*6,\n",
        "      'mes':['jan', 'fev', 'mar', 'abr', 'mai', 'jun']}\n",
        "df_index = pd.DataFrame(data)\n",
        "# Concatenando o índice\n",
        "df_21_p = pd.concat([df_index, vca], axis=1)\n",
        "df_21_p.tail()"
      ],
      "execution_count": null,
      "outputs": []
    },
    {
      "cell_type": "code",
      "metadata": {
        "id": "OJExoSkJjLYF"
      },
      "source": [
        "# Coletando os dados\n",
        "xlsx = pd.read_excel(path + '/2021/02-2021.xlsx')\n",
        "vca = xlsx[xlsx.eq(\"VITORIA DA CONQUISTA\").any(1)].iloc[:-1, 3:11].reset_index(drop=True)\n",
        "vca = vca.set_axis(crimes_o, axis=1)\n",
        "# dataframe índice\n",
        "data={'ano':[2021]*6,\n",
        "      'mes':['jan', 'fev', 'mar', 'abr', 'mai', 'jun']}\n",
        "df_index = pd.DataFrame(data)\n",
        "# Concatenando o índice\n",
        "df_21_o = pd.concat([df_index, vca], axis=1)\n",
        "df_21_o.tail()"
      ],
      "execution_count": null,
      "outputs": []
    },
    {
      "cell_type": "markdown",
      "metadata": {
        "id": "j5txsk3P-nnV"
      },
      "source": [
        "# Resultados da Coleta"
      ]
    },
    {
      "cell_type": "markdown",
      "metadata": {
        "id": "jTJ9tY2q_2Tj"
      },
      "source": [
        "## 2014 - 2018"
      ]
    },
    {
      "cell_type": "code",
      "metadata": {
        "id": "6Rsv_wu54pGZ"
      },
      "source": [
        "df_14_18 = pd.concat([df_14, df_15, df_16, df_17, df_18], axis=0, ignore_index=True)\n",
        "df_14_18"
      ],
      "execution_count": null,
      "outputs": []
    },
    {
      "cell_type": "markdown",
      "metadata": {
        "id": "UNE7RoW1-uM9"
      },
      "source": [
        "## 2019 - 2021"
      ]
    },
    {
      "cell_type": "markdown",
      "metadata": {
        "id": "dDTHn8kRNhhm"
      },
      "source": [
        "### Pessoas"
      ]
    },
    {
      "cell_type": "code",
      "metadata": {
        "id": "1V-nmX5n-qmG"
      },
      "source": [
        "df_p = pd.concat([df_19_p, df_20_p, df_21_p], axis=0, ignore_index=True)\n",
        "df_p"
      ],
      "execution_count": null,
      "outputs": []
    },
    {
      "cell_type": "markdown",
      "metadata": {
        "id": "8GbKeuSX_dO9"
      },
      "source": [
        "### Ocorrências"
      ]
    },
    {
      "cell_type": "code",
      "metadata": {
        "id": "pOoGFbKI_fyW"
      },
      "source": [
        "df_o = pd.concat([df_19_o, df_20_o, df_21_o], axis=0, ignore_index=True)\n",
        "df_o"
      ],
      "execution_count": null,
      "outputs": []
    },
    {
      "cell_type": "markdown",
      "metadata": {
        "id": "pSiDe-ZcNuf2"
      },
      "source": [
        "### Concatenando"
      ]
    },
    {
      "cell_type": "code",
      "metadata": {
        "id": "uHBspz6yNxq4"
      },
      "source": [
        "df_1 = pd.concat([df_p, df_o[crimes_o]], axis=1)\n",
        "df_a = df_1[['mes', 'ano']+crimes]\n",
        "df_14_21 = pd.concat([df_14_18, df_a], axis=0, ignore_index=True)\n",
        "df_14_21.to_csv(path_or_buf=path+'/Dados Coletados/14_21.csv', index=False)\n",
        "df_14_21"
      ],
      "execution_count": null,
      "outputs": []
    },
    {
      "cell_type": "code",
      "metadata": {
        "id": "M_elDoD5XgK1"
      },
      "source": [
        "[item for item in crimes_o + crimes_p if item not in crimes]"
      ],
      "execution_count": null,
      "outputs": []
    },
    {
      "cell_type": "code",
      "metadata": {
        "id": "z99d-LFrTMcZ"
      },
      "source": [
        "novos_crimes = [item for item in crimes_o + crimes_p if item not in crimes]\n",
        "df_19_21 = df_1[['mes', 'ano'] + novos_crimes]\n",
        "df_19_21.to_csv(path_or_buf=path+'/Dados Coletados/19_21.csv', index=False)\n",
        "df_19_21"
      ],
      "execution_count": null,
      "outputs": []
    }
  ]
}